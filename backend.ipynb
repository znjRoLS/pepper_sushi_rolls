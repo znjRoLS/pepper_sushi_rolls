{
 "cells": [
  {
   "cell_type": "code",
   "execution_count": 1,
   "metadata": {
    "collapsed": true
   },
   "outputs": [],
   "source": [
    "import math\n",
    "import json\n",
    "import subprocess\n",
    "#import sys\n",
    "#reload(sys)\n",
    "#sys.setdefaultencoding('utf-8')"
   ]
  },
  {
   "cell_type": "code",
   "execution_count": null,
   "metadata": {
    "collapsed": true
   },
   "outputs": [],
   "source": [
    "# GET /test\n",
    "import requests\n",
    "r = requests.get('https://api.github.com/events')\n",
    "data = r.text.decode(\"utf8\")\n",
    "file = open('myfile2.dat', 'w+')\n",
    "\n",
    "#req = json.loads(REQUEST)\n",
    "#args = req['args']\n",
    "#print(args)\n",
    "\n",
    "#if 'data' in args:\n",
    "    #file.write(args['data'][0])\n",
    "    #print(\"Written data \" + args['data'][0])\n",
    "    \n",
    "print(data)\n",
    "file.write(data)\n",
    "#file.close()"
   ]
  },
  {
   "cell_type": "code",
   "execution_count": null,
   "metadata": {
    "collapsed": true
   },
   "outputs": [],
   "source": [
    "# POST /file\n",
    "import base64\n",
    "file = open('notebooks/pic.jpg', 'wb+')\n",
    "\n",
    "req = json.loads(REQUEST)\n",
    "args = req['body']\n",
    "#print(args)\n",
    "\n",
    "if 'data' in args:\n",
    "    file.write(base64.b64decode(args['data'][0]))\n",
    "    print(\"5.0\")\n",
    "    #print(\"Written data\")\n",
    "    \n",
    "#print(data)\n",
    "#file.write(data)\n",
    "file.close()"
   ]
  },
  {
   "cell_type": "code",
   "execution_count": null,
   "metadata": {
    "collapsed": true
   },
   "outputs": [],
   "source": [
    "# GET /file\n",
    "file = open('myfile.dat', 'w+')\n",
    "\n",
    "req = json.loads(REQUEST)\n",
    "args = req['args']\n",
    "\n",
    "if 'data' in args:\n",
    "    file.write(args['data'][0])\n",
    "    print(\"Written data\")\n",
    "    \n",
    "#print(data)\n",
    "#file.write(data)\n",
    "file.close()"
   ]
  },
  {
   "cell_type": "code",
   "execution_count": null,
   "metadata": {
    "collapsed": true
   },
   "outputs": [],
   "source": [
    "# POST /slika\n",
    "import base64\n",
    "file = open('slika.jpg', 'w+')\n",
    "\n",
    "req = json.loads(REQUEST)\n",
    "args = req['body']\n",
    "\n",
    "if 'data' in args:\n",
    "    file.write(base64.b64decode(args['data'][0]))\n",
    "    \n",
    "file.close()\n",
    "\n",
    "p = subprocess.Popen(r'/home/team4/notebooks/darknet/start.sh', cwd=r'/home/team4/notebooks/darknet/', shell=True)\n",
    "p.communicate()\n",
    "\n",
    "file = open('radi.txt', 'r+')\n",
    "print(file.read())\n",
    "file.close()"
   ]
  },
  {
   "cell_type": "code",
   "execution_count": null,
   "metadata": {
    "collapsed": true
   },
   "outputs": [],
   "source": [
    "# POST /telo\n",
    "import base64\n",
    "import os;\n",
    "os.chdir('/home/team4/openpose/test_images')\n",
    "\n",
    "req = json.loads(REQUEST)\n",
    "args = req['body']\n",
    "\n",
    "if 'data' in args:\n",
    "    for i in range(0, len(args['data'])):\n",
    "        file = open('slika' + str(i) + '.jpg', 'w+')\n",
    "        file.write(base64.b64decode(args['data'][i]))\n",
    "        file.close()\n",
    "\n",
    "p = subprocess.Popen(r'/home/team4/openpose/build/examples/openpose/openpose.bin --image_dir ./test_images --no_display --write_keypoint_json ./test_images --write_images /home/team4/notebooks/test_images', cwd=r'/home/team4/openpose/', shell=True)\n",
    "p.communicate()\n",
    "\n",
    "output = []\n",
    "for i in range(0, len(args['data'])):\n",
    "    file = open('slika' + str(i) + '_keypoints.json', 'r+')\n",
    "    output.append(file.read())\n",
    "\n",
    "print(\"[\" + \",\".join(output) + \"]\")\n",
    "file.close()\n",
    "\n"
   ]
  },
  {
   "cell_type": "code",
   "execution_count": null,
   "metadata": {
    "collapsed": true
   },
   "outputs": [],
   "source": [
    "# POST /pic\n",
    "file = open('slika.png', 'w+')\n",
    "\n",
    "req = json.loads(REQUEST)\n",
    "args = req['body']\n",
    "\n",
    "if 'data' in args:\n",
    "    file.write(args['data'][0])\n",
    "    \n",
    "#print(data)\n",
    "#file.write(data)\n",
    "file.close()"
   ]
  },
  {
   "cell_type": "code",
   "execution_count": null,
   "metadata": {
    "collapsed": true
   },
   "outputs": [],
   "source": [
    "# GET /website\n",
    "p = subprocess.Popen(r'/home/team4/notebooks/darknet/start.sh', cwd=r'/home/team4/notebooks/darknet/', shell=True)\n",
    "p.communicate()\n",
    "print(\"DONE!\")"
   ]
  },
  {
   "cell_type": "code",
   "execution_count": null,
   "metadata": {
    "collapsed": true
   },
   "outputs": [],
   "source": [
    "# GET /create_file\n",
    "\n",
    "req = json.loads(REQUEST)\n",
    "args = req['args']\n",
    "\n",
    "if 'angle' not in args:\n",
    "  print(json.dumps({'convertedAngle': None}))\n",
    "else:\n",
    "  # Note the [0] when retrieving the argument.\n",
    "  # This is because you could potentially pass multiple angles.\n",
    "  angle = int(args['angle'][0])\n",
    "  converted = math.radians(angle)\n",
    "  print(json.dumps({'convertedAngle': converted}))"
   ]
  }
 ],
 "metadata": {
  "kernelspec": {
   "display_name": "Python 2",
   "language": "python",
   "name": "python2"
  },
  "language_info": {
   "codemirror_mode": {
    "name": "ipython",
    "version": 2
   },
   "file_extension": ".py",
   "mimetype": "text/x-python",
   "name": "python",
   "nbconvert_exporter": "python",
   "pygments_lexer": "ipython2",
   "version": "2.7.11"
  }
 },
 "nbformat": 4,
 "nbformat_minor": 2
}
